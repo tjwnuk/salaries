{
 "cells": [
  {
   "cell_type": "code",
   "execution_count": 1,
   "id": "04d5a18e",
   "metadata": {},
   "outputs": [],
   "source": [
    "import pandas as pd\n",
    "\n",
    "'''\n",
    "Convert *.jl file from Scrapy to *.json file readable by Pandas\n",
    "'''\n",
    "\n",
    "file = open('../raw_data.jl','r')\n",
    "\n",
    "content = ''\n",
    "\n",
    "for line in file.readlines():\n",
    "    content += line.rstrip() + ',\\n'\n",
    "    \n",
    "# remove last , because with comma pandas will not read correctly the file\n",
    "content = content[:-2]\n",
    "content += '\\n'\n",
    "    \n",
    "# add { and } at the beginning and the end, add data key\n",
    "content = '{\"data\": [\\n' + content\n",
    "content = content + ']}'\n",
    "\n",
    "file.close()\n",
    "\n",
    "file2 = open('../raw_data.json', 'w')\n",
    "file2.write(content)\n",
    "file2.close()"
   ]
  }
 ],
 "metadata": {
  "kernelspec": {
   "display_name": "Python 3 (ipykernel)",
   "language": "python",
   "name": "python3"
  },
  "language_info": {
   "codemirror_mode": {
    "name": "ipython",
    "version": 3
   },
   "file_extension": ".py",
   "mimetype": "text/x-python",
   "name": "python",
   "nbconvert_exporter": "python",
   "pygments_lexer": "ipython3",
   "version": "3.11.3"
  }
 },
 "nbformat": 4,
 "nbformat_minor": 5
}
