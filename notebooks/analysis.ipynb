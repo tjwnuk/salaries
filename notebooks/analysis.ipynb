{
 "cells": [
  {
   "cell_type": "code",
   "execution_count": 1,
   "id": "82f422c3",
   "metadata": {},
   "outputs": [
    {
     "name": "stdout",
     "output_type": "stream",
     "text": [
      "Number of posts:  3768\n"
     ]
    }
   ],
   "source": [
    "import pandas as pd\n",
    "from bs4 import BeautifulSoup\n",
    "import re\n",
    "from IPython.display import HTML\n",
    "\n",
    "# Read the file\n",
    "file = pd.read_json('../raw_data.json')\n",
    "series = pd.Series(file['data'])\n",
    "\n",
    "# convert json to dataframe\n",
    "df = pd.json_normalize(series)\n",
    "\n",
    "print(\"Number of posts: \", len(df))"
   ]
  },
  {
   "cell_type": "code",
   "execution_count": 2,
   "id": "e999cd9c",
   "metadata": {},
   "outputs": [
    {
     "name": "stdout",
     "output_type": "stream",
     "text": [
      "Processed posts:  2\n"
     ]
    },
    {
     "data": {
      "text/html": [
       "<table border=\"1\" class=\"dataframe\">\n",
       "  <thead>\n",
       "    <tr style=\"text-align: right;\">\n",
       "      <th></th>\n",
       "      <th>name</th>\n",
       "      <th>salary</th>\n",
       "      <th>currency</th>\n",
       "      <th>date</th>\n",
       "      <th>period</th>\n",
       "      <th>url</th>\n",
       "    </tr>\n",
       "  </thead>\n",
       "  <tbody>\n",
       "    <tr>\n",
       "      <th>0</th>\n",
       "      <td>Wybitny Szczur</td>\n",
       "      <td>7000</td>\n",
       "      <td>zł</td>\n",
       "      <td>NaN</td>\n",
       "      <td>NaN</td>\n",
       "      <td><a href=\"https://4programmers.net/Forum/Kariera/233131-ile_zarabiacie?p=1154077#id1154077\" target=\"_blank\">https://4programmers.net/Forum/Kariera/233131-ile_zarabiacie?p=1154077#id1154077</a></td>\n",
       "    </tr>\n",
       "    <tr>\n",
       "      <th>1</th>\n",
       "      <td>Mały Mleczarz</td>\n",
       "      <td>10</td>\n",
       "      <td>NaN</td>\n",
       "      <td>NaN</td>\n",
       "      <td>NaN</td>\n",
       "      <td><a href=\"https://4programmers.net/Forum/Kariera/233131-ile_zarabiacie?p=1154082#id1154082\" target=\"_blank\">https://4programmers.net/Forum/Kariera/233131-ile_zarabiacie?p=1154082#id1154082</a></td>\n",
       "    </tr>\n",
       "  </tbody>\n",
       "</table>"
      ],
      "text/plain": [
       "<IPython.core.display.HTML object>"
      ]
     },
     "execution_count": 2,
     "metadata": {},
     "output_type": "execute_result"
    }
   ],
   "source": [
    "salaries_df = pd.DataFrame({'name': [], 'salary': [], 'currency': [], 'date': [], 'period': [], 'url': []})\n",
    "\n",
    "\n",
    "\n",
    "# keywords\n",
    "salary_keywords = ['Zarobki', 'zarobki', 'ZAROBKI']\n",
    "currency_keywords = ['ZŁ', 'Zł', 'zł', 'USD','Usd', 'usd', '$','EURO', 'Euro', 'euro', 'EUR', 'Eur', 'eur', '€']\n",
    "thousands = ['k']\n",
    "\n",
    "def find_salaries(post):\n",
    "    # find all salary infos in specific post\n",
    "    # search through the every line in post\n",
    "    # add new row to dataframe only if salaries is found\n",
    "    # default false\n",
    "    \n",
    "    soup = BeautifulSoup(post['post_content'], 'html.parser')\n",
    "    \n",
    "    # remove blockquotes and avoid repetition\n",
    "    for blockquote in soup.find_all('blockquote'):\n",
    "        blockquote.decompose()\n",
    "        \n",
    "    # get clean text without html tags\n",
    "    clean_text = soup.get_text()\n",
    "    \n",
    "    result = pd.DataFrame(columns = salaries_df.columns)\n",
    "    \n",
    "    found = False\n",
    "    \n",
    "    new_row = {'name': post['author'], 'salary': 0, 'url': post['url']}\n",
    "    \n",
    "    for line in clean_text.split('\\n'):\n",
    "        for keyword in salary_keywords:\n",
    "            # check if salary is present\n",
    "            if keyword in line:\n",
    "                \n",
    "                # regexp rules\n",
    "                full_salary_match = re.search(r'\\d+', line)\n",
    "                short_salary_match = re.search(r'(\\d+[.,]?\\d*)\\s*k', line)\n",
    "                \n",
    "                \n",
    "                # find salary and convert it to int\n",
    "                if(full_salary_match):\n",
    "                    new_row['salary'] = int(full_salary_match.group(0))\n",
    "                    found = True\n",
    "                    \n",
    "                elif (short_salary_match):\n",
    "                    value = short_salary_match.group(0)\n",
    "                \n",
    "                    # convert , to . for Python float format\n",
    "                    if \",\" in value:\n",
    "                        value = value.replace(',', '.')\n",
    "                        \n",
    "                    # convert to full value, e.g. 6,5k -> 6500\n",
    "                    if \"k\" in value:\n",
    "                        value = value.replace('k', \"\")\n",
    "                        value = float(value) * 1000\n",
    "                        value = int(value)\n",
    "                    \n",
    "                    \n",
    "                    new_row['salary'] = value\n",
    "                    found = True\n",
    "                    \n",
    "                # search for currency of salary\n",
    "                for currency in currency_keywords:\n",
    "                    if currency in line:\n",
    "                        new_row['currency'] = currency\n",
    "                        found = True\n",
    "                \n",
    "                if(found):\n",
    "                    result.loc[len(salaries_df)] = new_row\n",
    "                    \n",
    "            return result\n",
    "    \n",
    "\n",
    "# iterate over all posts\n",
    "# analyze every post\n",
    "for index, post in df.iterrows():\n",
    "    \n",
    "    post_salaries = find_salaries(post)\n",
    "    \n",
    "    salaries_df = pd.concat([salaries_df, post_salaries], ignore_index = True)\n",
    "    \n",
    "print('Processed posts: ', len(salaries_df))\n",
    "HTML(salaries_df.to_html(render_links=True, escape=False))"
   ]
  },
  {
   "cell_type": "code",
   "execution_count": null,
   "id": "aeede8aa",
   "metadata": {},
   "outputs": [],
   "source": []
  }
 ],
 "metadata": {
  "kernelspec": {
   "display_name": "Python 3 (ipykernel)",
   "language": "python",
   "name": "python3"
  },
  "language_info": {
   "codemirror_mode": {
    "name": "ipython",
    "version": 3
   },
   "file_extension": ".py",
   "mimetype": "text/x-python",
   "name": "python",
   "nbconvert_exporter": "python",
   "pygments_lexer": "ipython3",
   "version": "3.11.3"
  }
 },
 "nbformat": 4,
 "nbformat_minor": 5
}
